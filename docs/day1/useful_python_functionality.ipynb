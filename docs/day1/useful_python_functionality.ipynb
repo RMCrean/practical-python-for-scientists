{
 "cells": [
  {
   "cell_type": "markdown",
   "metadata": {},
   "source": [
    "This is a non exhaustive demonstration of some useful functionality within Python that I think can be good to know about. "
   ]
  },
  {
   "cell_type": "markdown",
   "metadata": {},
   "source": [
    "### 1. Find out the type of an object using the type() function. \n",
    "\n",
    "Note, if your using an IDE, you should be able to hover over the object and it will tell you the type too."
   ]
  },
  {
   "cell_type": "code",
   "execution_count": null,
   "metadata": {},
   "outputs": [],
   "source": [
    "some_numbers = [10, 5, 10.11]\n",
    "type(some_numbers), type(some_numbers[0])"
   ]
  },
  {
   "cell_type": "markdown",
   "metadata": {},
   "source": [
    "This also works for third party libraries"
   ]
  },
  {
   "cell_type": "code",
   "execution_count": null,
   "metadata": {},
   "outputs": [],
   "source": [
    "import numpy as np \n",
    "type(np.array(some_numbers))"
   ]
  },
  {
   "cell_type": "markdown",
   "metadata": {},
   "source": [
    "### 2. Find out the attributes available to any object \n",
    "\n",
    "With this, we can obtain a list some_numbers we can see the methods we can make use of. "
   ]
  },
  {
   "cell_type": "code",
   "execution_count": null,
   "metadata": {},
   "outputs": [],
   "source": [
    "dir(some_numbers)"
   ]
  },
  {
   "cell_type": "markdown",
   "metadata": {},
   "source": [
    "Here for example we can see the methods \"append\", \"insert\", \"pop\", \"remove\" can be used on this object of type list. "
   ]
  },
  {
   "cell_type": "markdown",
   "metadata": {},
   "source": [
    "### 3. Using set on a list \n",
    "Sets are very similar to lists with 2 main exceptions: \n",
    "1. They can not contain duplicate values.\n",
    "2. They do not preserve order\n",
    "\n",
    "This first feature is useful for finding all the unique elements of a list "
   ]
  },
  {
   "cell_type": "code",
   "execution_count": null,
   "metadata": {},
   "outputs": [],
   "source": [
    "some_list = ['a', 'b', 'c', 'b', 'd', 'm', 'n', 'n']\n",
    "unique_values = list(set(some_list)) # wrapping it inside list makes it a list again\n",
    "unique_values"
   ]
  },
  {
   "cell_type": "markdown",
   "metadata": {},
   "source": [
    "### 4. There are a lot of built in functions that can come in handy  \n",
    "\n",
    "As an example lets take the below example of counting the number of occurences of each fruit in the list fruits."
   ]
  },
  {
   "cell_type": "code",
   "execution_count": null,
   "metadata": {},
   "outputs": [],
   "source": [
    "fruits = ['apple', 'banana', 'orange', 'apple', 'grape', 'apple', 'banana']"
   ]
  },
  {
   "cell_type": "markdown",
   "metadata": {},
   "source": [
    "We could do:"
   ]
  },
  {
   "cell_type": "code",
   "execution_count": null,
   "metadata": {},
   "outputs": [],
   "source": [
    "unique_fruits = set(fruits)\n",
    "\n",
    "fruit_counts = {}\n",
    "for fruit in unique_fruits:\n",
    "    count = fruits.count(fruit)\n",
    "    fruit_counts[fruit] = count\n",
    "print(fruit_counts)"
   ]
  },
  {
   "cell_type": "markdown",
   "metadata": {},
   "source": [
    "We could instead use the built in Counter class to do the same job: "
   ]
  },
  {
   "cell_type": "code",
   "execution_count": null,
   "metadata": {},
   "outputs": [],
   "source": [
    "from collections import Counter\n",
    "fruit_counts = dict(Counter(fruits))\n",
    "\n",
    "print(fruit_counts)"
   ]
  },
  {
   "cell_type": "markdown",
   "metadata": {},
   "source": [
    "### 5. Looping through dictionaries \n",
    "\n",
    "Depending on if we want to get the keys, values or both out of a dictionary, we can use the appropriate method. "
   ]
  },
  {
   "cell_type": "code",
   "execution_count": null,
   "metadata": {},
   "outputs": [],
   "source": [
    "travel_distances_stockholm = {\n",
    "    'Oslo': 400,\n",
    "    'Copenhagen': 600,\n",
    "    'Helsinki': 800,\n",
    "    'Berlin': 1200,\n",
    "    'Warsaw': 1500,\n",
    "    'Amsterdam': 1100,\n",
    "    'Paris': 1400,\n",
    "}"
   ]
  },
  {
   "cell_type": "code",
   "execution_count": null,
   "metadata": {},
   "outputs": [],
   "source": [
    "for city in travel_distances_stockholm: # same as travel_distances_stockholm.keys()\n",
    "    print(city)"
   ]
  },
  {
   "cell_type": "code",
   "execution_count": null,
   "metadata": {},
   "outputs": [],
   "source": [
    "for distance in travel_distances_stockholm.values():\n",
    "    print(distance)"
   ]
  },
  {
   "cell_type": "code",
   "execution_count": null,
   "metadata": {},
   "outputs": [],
   "source": [
    "for city, distance in travel_distances_stockholm.items():\n",
    "    print(f\"The city {city}, is {distance} km from Stockholm.\")"
   ]
  },
  {
   "cell_type": "markdown",
   "metadata": {},
   "source": [
    "### 6. Enumerate\n",
    "\n",
    "Enumerate allows us to iterate over the index and contents of a sequence like a list, tuple or set. "
   ]
  },
  {
   "cell_type": "code",
   "execution_count": null,
   "metadata": {},
   "outputs": [],
   "source": [
    "fruits = ['apple', 'banana', 'orange', 'grape']"
   ]
  },
  {
   "cell_type": "code",
   "execution_count": null,
   "metadata": {},
   "outputs": [],
   "source": [
    "# without enumerate\n",
    "index = 0\n",
    "for fruit in fruits:\n",
    "    print(f\"Index {index}: {fruit}\")\n",
    "    index += 1"
   ]
  },
  {
   "cell_type": "code",
   "execution_count": null,
   "metadata": {},
   "outputs": [],
   "source": [
    "# with enumerate\n",
    "for index, fruit in enumerate(fruits):\n",
    "    print(f\"Index {index}: {fruit}\")"
   ]
  },
  {
   "cell_type": "markdown",
   "metadata": {},
   "source": [
    "**Bonus**: Enumerate starts the index counting by default from 0, we can change this to be any number using the `start` parameter. "
   ]
  },
  {
   "cell_type": "code",
   "execution_count": null,
   "metadata": {},
   "outputs": [],
   "source": [
    "for item_numb, fruit in enumerate(fruits, start=1):\n",
    "    print(f\"Item Number {item_numb}: {fruit}\")"
   ]
  },
  {
   "cell_type": "markdown",
   "metadata": {},
   "source": [
    "### 7. Zip \n",
    "Zip can be used to combine two lists (or other type of iterable object together). It has two main use cases."
   ]
  },
  {
   "cell_type": "code",
   "execution_count": null,
   "metadata": {},
   "outputs": [],
   "source": [
    "cities = ['New York', 'London', 'Paris', 'Tokyo']\n",
    "populations = [8175133, 8982000, 2140526, 13929286]"
   ]
  },
  {
   "cell_type": "markdown",
   "metadata": {},
   "source": [
    "1. to loop through two objects with the same indexes."
   ]
  },
  {
   "cell_type": "code",
   "execution_count": null,
   "metadata": {},
   "outputs": [],
   "source": [
    "for city, population in zip(cities, populations):\n",
    "    print(f\"the city {city} has a population of {population}\")"
   ]
  },
  {
   "cell_type": "markdown",
   "metadata": {},
   "source": [
    "2. Merge two lists together to make a dictionary"
   ]
  },
  {
   "cell_type": "code",
   "execution_count": null,
   "metadata": {},
   "outputs": [],
   "source": [
    "city_populations_dict = dict(zip(cities, populations))\n",
    "print(city_populations_dict)"
   ]
  },
  {
   "cell_type": "markdown",
   "metadata": {},
   "source": [
    "### 8. List Comprehensions \n",
    "A way to create a new list on 1 line of code \n",
    "\n",
    "basic syntax is as follows: \n",
    "new_list = [expression for item in iterable if condition]"
   ]
  },
  {
   "cell_type": "code",
   "execution_count": null,
   "metadata": {},
   "outputs": [],
   "source": [
    "# example 1: with list comprehension:\n",
    "squares = [num ** 2 for num in range(1, 5+1)]\n",
    "squares"
   ]
  },
  {
   "cell_type": "code",
   "execution_count": null,
   "metadata": {},
   "outputs": [],
   "source": [
    "# example 1, using a traditional for loop\n",
    "squares = []\n",
    "for num in range(1, 5+1):\n",
    "    squares.append(num ** 2)\n",
    "squares"
   ]
  },
  {
   "cell_type": "markdown",
   "metadata": {},
   "source": [
    "**Warning!** - do not use list comprehensions when there is a lot of logic involved, it gets hard to read very quickly, stick to a normal for loop"
   ]
  },
  {
   "cell_type": "code",
   "execution_count": null,
   "metadata": {},
   "outputs": [],
   "source": [
    "# Example 2: Using a traditional for loop\n",
    "squares = []\n",
    "for num in range(10):\n",
    "    if num % 2 == 0: # if number even\n",
    "        squares.append(num ** 2) # square it. \n",
    "print(squares)"
   ]
  },
  {
   "cell_type": "code",
   "execution_count": null,
   "metadata": {},
   "outputs": [],
   "source": [
    "# Example 2: Using list comprehension\n",
    "squares_compact = [num ** 2 for num in range(10) if num % 2 == 0]\n",
    "print(squares)"
   ]
  },
  {
   "cell_type": "markdown",
   "metadata": {},
   "source": [
    "Example 2 is about the limit of how complicated a list comprehension should be (I think)."
   ]
  },
  {
   "cell_type": "markdown",
   "metadata": {},
   "source": [
    "### 9. Other Types of Comprehensions\n",
    "We can do the same for dictionaries, sets and other python objects that store data. \n",
    "\n",
    "I find I don't tend to do this very often though. "
   ]
  },
  {
   "cell_type": "code",
   "execution_count": null,
   "metadata": {},
   "outputs": [],
   "source": [
    "# example 1, using dict comprehension\n",
    "squares_dict = {num: num ** 2 for num in range(1, 5+1)}\n",
    "print(squares_dict)"
   ]
  },
  {
   "cell_type": "code",
   "execution_count": null,
   "metadata": {},
   "outputs": [],
   "source": [
    "# example 1, using a traditional for loop\n",
    "squares_dict = {}\n",
    "for num in range(1, 5+1):\n",
    "    squares_dict[num] = num ** 2\n",
    "print(squares_dict)"
   ]
  },
  {
   "cell_type": "markdown",
   "metadata": {},
   "source": [
    "### 10. The Itertools Library  \n",
    "\n",
    "[Click here for a detailed article on itertools](https://realpython.com/python-itertools/)\n",
    "\n",
    "Some examples are shown below. "
   ]
  },
  {
   "cell_type": "code",
   "execution_count": null,
   "metadata": {},
   "outputs": [],
   "source": [
    "import itertools\n",
    "word_permutations = list(itertools.permutations(\"ABC\", r=2))\n",
    "print(word_permutations)"
   ]
  },
  {
   "cell_type": "code",
   "execution_count": null,
   "metadata": {},
   "outputs": [],
   "source": [
    "word_combinations = list(itertools.combinations('ABCD', r=2))\n",
    "print(word_combinations)"
   ]
  },
  {
   "cell_type": "code",
   "execution_count": null,
   "metadata": {},
   "outputs": [],
   "source": [
    "NUM_DICE = 2\n",
    "DICE_MIN = 1\n",
    "DICE_MAX = 6\n",
    "\n",
    "dice_outcomes = list(itertools.product(range(DICE_MIN, DICE_MAX+1), repeat=NUM_DICE))\n",
    "print(f\"for {NUM_DICE} dice, there are {len(dice_outcomes)} possible outcomes\")"
   ]
  },
  {
   "cell_type": "markdown",
   "metadata": {},
   "source": [
    "### 11. The datetime library\n",
    "\n",
    "[See the documentation for even more details](https://docs.python.org/3/library/datetime.html)\n",
    "\n",
    "Some example uses below "
   ]
  },
  {
   "cell_type": "code",
   "execution_count": 1,
   "metadata": {},
   "outputs": [
    {
     "name": "stdout",
     "output_type": "stream",
     "text": [
      "Current Date and Time: 2024-01-07 15:04:24.720473\n",
      "Specific Date and Time: 2022-12-31 23:59:59\n",
      "Time Difference: -372 days, 8:55:34.279527\n",
      "New Date after Adding 7 Days: 2024-01-14 15:04:24.720473\n"
     ]
    }
   ],
   "source": [
    "from datetime import datetime, timedelta\n",
    "\n",
    "# Get the current date and time\n",
    "current_datetime = datetime.now()\n",
    "print(f\"Current Date and Time: {current_datetime}\")\n",
    "\n",
    "# Create a specific date and time\n",
    "specific_datetime = datetime(2022, 12, 31, 23, 59, 59)\n",
    "print(f\"Specific Date and Time: {specific_datetime}\")\n",
    "\n",
    "# Calculate the difference between two dates\n",
    "time_difference = specific_datetime - current_datetime\n",
    "print(f\"Time Difference: {time_difference}\")\n",
    "\n",
    "# Add a specific duration to a date\n",
    "new_datetime = current_datetime + timedelta(days=7)\n",
    "print(f\"New Date after Adding 7 Days: {new_datetime}\")\n"
   ]
  },
  {
   "cell_type": "code",
   "execution_count": null,
   "metadata": {},
   "outputs": [],
   "source": []
  }
 ],
 "metadata": {
  "kernelspec": {
   "display_name": "py_for_science",
   "language": "python",
   "name": "python3"
  },
  "language_info": {
   "codemirror_mode": {
    "name": "ipython",
    "version": 3
   },
   "file_extension": ".py",
   "mimetype": "text/x-python",
   "name": "python",
   "nbconvert_exporter": "python",
   "pygments_lexer": "ipython3",
   "version": "3.11.5"
  }
 },
 "nbformat": 4,
 "nbformat_minor": 2
}
