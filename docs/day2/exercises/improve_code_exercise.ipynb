{
 "cells": [
  {
   "cell_type": "markdown",
   "metadata": {},
   "source": [
    "### Exercise: Improve these code blocks\n",
    "\n",
    "All of the below code works, but there is a more \"pythonic\" way to do it. Can you find it? \n",
    "\n",
    "##### Instructions\n",
    "- Edit each cell block labelled \"your improved version\" with your suggested improvements.\n",
    "- Make sure your alternate version gives the same output as the original code block. \n",
    "\n",
    "##### Tips: \n",
    "- Ask what each code block is doing (e.g. printing something out) and ask how you could do this differently - perhaps in a more readable way or more efficently). \n",
    "- If you can't solve the problem that's okay, move onto the next one. We'll go through them all afterwards and the awnsers will be made available to you. "
   ]
  },
  {
   "cell_type": "markdown",
   "metadata": {},
   "source": [
    "**Question 1.**"
   ]
  },
  {
   "cell_type": "code",
   "execution_count": 3,
   "metadata": {},
   "outputs": [
    {
     "name": "stdout",
     "output_type": "stream",
     "text": [
      "My name is Tim.\n",
      "I'm a writting a book called: Tim's Troubles.\n",
      "It will be about 300 pages long.\n"
     ]
    }
   ],
   "source": [
    "# original code - don't edit this cell\n",
    "def manual_str_formatting(name, thesis_title, num_pages):\n",
    "        print(\"My name is \" + name + \".\\n\" + \n",
    "              \"I'm a writting a book called: \" + thesis_title + \".\\n\" + \n",
    "              \"It will be about \" + str(num_pages) + \" pages long.\")\n",
    "\n",
    "manual_str_formatting(name=\"Tim\", thesis_title=\"Tim's Troubles\", num_pages=300)"
   ]
  },
  {
   "cell_type": "code",
   "execution_count": 6,
   "metadata": {},
   "outputs": [
    {
     "name": "stdout",
     "output_type": "stream",
     "text": [
      "My name is Tim. \n",
      "I'm a writting a book called: Tim's Troubles. \n",
      "It will be about 300 pages long.\n"
     ]
    }
   ],
   "source": [
    "# your improved version\n",
    "def manual_str_formatting(name, thesis_title, num_pages):\n",
    "        print(\n",
    "f\"\"\"My name is {name}. \n",
    "I'm a writting a book called: {thesis_title}. \n",
    "It will be about {str(num_pages)} pages long.\"\"\"\n",
    ")\n",
    "\n",
    "manual_str_formatting(name=\"Tim\", thesis_title=\"Tim's Troubles\", num_pages=300)"
   ]
  },
  {
   "cell_type": "markdown",
   "metadata": {},
   "source": [
    "**Explanation:** We can use [f-strings](https://realpython.com/python-f-strings/) here to make the code more readable. \n",
    "\n",
    "We can also use triple quotes (\"\"\" or ''') to write multiline strings in Python."
   ]
  },
  {
   "cell_type": "markdown",
   "metadata": {},
   "source": [
    "**Question 2.**"
   ]
  },
  {
   "cell_type": "code",
   "execution_count": null,
   "metadata": {},
   "outputs": [],
   "source": [
    "# code to setup question, no editing needed \n",
    "jam_scores = {\n",
    "    \"strawberry\" : 5,\n",
    "    \"raspberry\": 10,\n",
    "    \"blueberry\": 6,\n",
    "    \"cherry\": 4\n",
    "}"
   ]
  },
  {
   "cell_type": "code",
   "execution_count": null,
   "metadata": {},
   "outputs": [],
   "source": [
    "# original code - don't edit this cell\n",
    "for jam in jam_scores:\n",
    "    score = jam_scores[jam]\n",
    "    print(f\"{jam} jam has a rating of {score}/10 \")"
   ]
  },
  {
   "cell_type": "code",
   "execution_count": null,
   "metadata": {},
   "outputs": [],
   "source": [
    "# your improved version\n",
    "for jam, score in jam_scores.items():\n",
    "    print(f\"{jam} jam has a rating of {score}/10 \")"
   ]
  },
  {
   "cell_type": "markdown",
   "metadata": {},
   "source": [
    "**Explanation:** Here we can make use of the .items() method that dictionaries have. This gives us both the key and value simulataneously. Note that if you want just the values, you can use the .values() method. "
   ]
  },
  {
   "cell_type": "markdown",
   "metadata": {},
   "source": [
    "**Question 3.**"
   ]
  },
  {
   "cell_type": "code",
   "execution_count": null,
   "metadata": {},
   "outputs": [],
   "source": [
    "# code to setup question, no editing needed \n",
    "dogs = ['Labrador Retriever', 'German Shepherd', 'Golden Retriever', 'Bulldog', 'Poodle']"
   ]
  },
  {
   "cell_type": "code",
   "execution_count": null,
   "metadata": {},
   "outputs": [],
   "source": [
    "# original code - don't edit this cell\n",
    "for i in range(len(dogs)):\n",
    "    dog = dogs[i]\n",
    "    print(dog)"
   ]
  },
  {
   "cell_type": "code",
   "execution_count": null,
   "metadata": {},
   "outputs": [],
   "source": [
    "# your improved version\n",
    "for dog in dogs:\n",
    "    print(dog)"
   ]
  },
  {
   "cell_type": "markdown",
   "metadata": {},
   "source": [
    "**Explanation**: If you're coming from another programming language you might be aware that you can simply iterate over the object (dogs) directly. "
   ]
  },
  {
   "cell_type": "markdown",
   "metadata": {},
   "source": [
    "**Question 4.**"
   ]
  },
  {
   "cell_type": "code",
   "execution_count": null,
   "metadata": {},
   "outputs": [],
   "source": [
    "# code to setup question, no editing needed \n",
    "dogs_show_rankings = ['Labrador Retriever', 'German Shepherd', 'Golden Retriever']"
   ]
  },
  {
   "cell_type": "code",
   "execution_count": null,
   "metadata": {},
   "outputs": [],
   "source": [
    "# original code - don't edit this cell\n",
    "ranking = 1\n",
    "for dog in dogs_show_rankings:\n",
    "    print(f\"The {dog} had ranking {ranking} in the dog show\")\n",
    "    ranking += 1"
   ]
  },
  {
   "cell_type": "code",
   "execution_count": null,
   "metadata": {},
   "outputs": [],
   "source": [
    "# your improved version\n",
    "for ranking, dog in enumerate(dogs_show_rankings, start=1):\n",
    "    print(f\"The {dog} had ranking {ranking} in the dog show\")"
   ]
  },
  {
   "cell_type": "markdown",
   "metadata": {},
   "source": [
    "**Explanation**: Enumerate will return the index along side the item inside the list. You can also change the starting value of the index to be something other than 0. Sometimes I have found it useful to start from 1 for example."
   ]
  },
  {
   "cell_type": "markdown",
   "metadata": {},
   "source": [
    "**Question 5.**"
   ]
  },
  {
   "cell_type": "code",
   "execution_count": null,
   "metadata": {},
   "outputs": [],
   "source": [
    "# code to setup question, no editing needed \n",
    "dogs = ['Labrador Retriever', 'German Shepherd', 'Golden Retriever', 'Bulldog', 'Poodle']\n",
    "favourite_toys = dog_toys = ['Chew Bone', 'Squeaky Toy', 'Tug Rope', 'Fetch Ball', 'Plush Toy']"
   ]
  },
  {
   "cell_type": "code",
   "execution_count": null,
   "metadata": {},
   "outputs": [],
   "source": [
    "# original code - don't edit this cell\n",
    "for shared_index in range(len(dogs)):\n",
    "    dog = dogs[shared_index]\n",
    "    fav_toy = favourite_toys[shared_index]\n",
    "    print(f\"{fav_toy}s are a {dog}'s favourite toy\")"
   ]
  },
  {
   "cell_type": "code",
   "execution_count": null,
   "metadata": {},
   "outputs": [],
   "source": [
    "# your improved version\n",
    "for dog, fav_toy in zip(dogs, favourite_toys):\n",
    "    print(f\"{fav_toy}s are a {dog}'s favourite toy\")"
   ]
  },
  {
   "cell_type": "markdown",
   "metadata": {},
   "source": [
    "**Explanation**: The zip function allows us to combine two lists (or other iterable types like tuples) together and iterate through each item from one of them, one at a time."
   ]
  },
  {
   "cell_type": "markdown",
   "metadata": {},
   "source": [
    "**Question 6.**"
   ]
  },
  {
   "cell_type": "code",
   "execution_count": null,
   "metadata": {},
   "outputs": [],
   "source": [
    "# original code - don't edit this cell\n",
    "def write_hello_in_empty_file(file_name):\n",
    "    f = open(file_name, \"w\")\n",
    "    f.write(\"hello!\\n\")\n",
    "    f.close()\n",
    "write_hello_in_empty_file(file_name=\"hello_world.txt\")"
   ]
  },
  {
   "cell_type": "code",
   "execution_count": null,
   "metadata": {},
   "outputs": [],
   "source": [
    "# your improved version\n",
    "def write_hello_in_empty_file(file_name):\n",
    "    with open(file_name, \"w\") as f:\n",
    "        f.write(\"hello!\\n\")\n",
    "write_hello_in_empty_file(file_name=\"hello_world.txt\")"
   ]
  },
  {
   "cell_type": "markdown",
   "metadata": {},
   "source": [
    "**Explanation:** Using a with statement means the file is closed automatically, even if exception/error occurs during the processing of the file. With statements are examples of context managers and you can [read more about them here](https://realpython.com/python-with-statement/) "
   ]
  },
  {
   "cell_type": "markdown",
   "metadata": {},
   "source": [
    "**Question 7.**"
   ]
  },
  {
   "cell_type": "code",
   "execution_count": null,
   "metadata": {},
   "outputs": [],
   "source": [
    "# original code - don't edit this cell\n",
    "coordinates = [13.01021212, 14.201, -12.30422121]\n",
    "x = coordinates[0]\n",
    "y = coordinates[1]\n",
    "z = coordinates[2]\n",
    "print(f\"The coordinates are: {x:.2f}, {y:.2f}, {z:.2f}\")"
   ]
  },
  {
   "cell_type": "code",
   "execution_count": null,
   "metadata": {},
   "outputs": [],
   "source": [
    "# your improved version\n",
    "coordinates = [13.0102, 14.2011, -12.3042]\n",
    "x, y, z = coordinates # this is the same as: x, y, z =  coordinates[0:3]\n",
    "# x, y, z = coordinates[0], coordinates[1], coordinates[2] # # if you want to be more explicit\n",
    "# x, y = coordinates[0:2] # if only want a selection of the code.\n",
    "print(f\"The coordinates are: {x:.2f}, {y:.2f}, {z:.2f}\")"
   ]
  },
  {
   "cell_type": "markdown",
   "metadata": {},
   "source": [
    "**Explanation**: The improved version makes use of tuple unpacking. A list of three items can be unpacked into 3 objects directly. If you only want a certain part of the list you could for example use: \"x, y = coordinates[0:2]\""
   ]
  },
  {
   "cell_type": "markdown",
   "metadata": {},
   "source": [
    "**Question 8~.** Hint: This one has 2 things to think about... "
   ]
  },
  {
   "cell_type": "code",
   "execution_count": null,
   "metadata": {},
   "outputs": [],
   "source": [
    "# code to setup question, no editing needed \n",
    "numb = 2.675"
   ]
  },
  {
   "cell_type": "code",
   "execution_count": null,
   "metadata": {},
   "outputs": [],
   "source": [
    "# original code - don't edit this cell\n",
    "print(f\"the number: {numb} to 2 decimal places is {round(numb, 2)}\")\n",
    "print(\"Was the above statement right?\")\n",
    "\n",
    "from numpy import * # numpy has a function called \"round\", so we'll import that. \n",
    "print(\"importing numpy to fix the problem\")\n",
    "print(f\"the number: {numb} to 2 decimal places is {round(numb, 2)}\")\n",
    "print(\"Was the above statement right now that we imported numpy?\")"
   ]
  },
  {
   "cell_type": "code",
   "execution_count": null,
   "metadata": {},
   "outputs": [],
   "source": [
    "# your improved version\n",
    "import numpy as np \n",
    "print(f\"the number: {numb} to 2 decimal places is {np.round(2.675, 2)}\")"
   ]
  },
  {
   "cell_type": "markdown",
   "metadata": {},
   "source": [
    "**Explanation:** Two things to consider here.\n",
    "1. The round() method built into python doesn't round how you would probably expect. It's good to be aware of this. Even the numpy solution has limitations in accuracy because floats are not stored as exactly as you might think, see here if interested \n",
    "2. Doing \"from module import *\" is bad practice. There are now 2 round() functions, the built in and the numpy version, which one gets used in the code? who knows... Instead specifcify a specific function or class you want to import or import the whole module "
   ]
  },
  {
   "cell_type": "markdown",
   "metadata": {},
   "source": [
    "**Question 9.** Hint: in this question, the code is not working as intended... "
   ]
  },
  {
   "cell_type": "code",
   "execution_count": null,
   "metadata": {},
   "outputs": [],
   "source": [
    "# original code - don't edit this cell\n",
    "def update_basket(new_item, shopping_basket=[]):\n",
    "    shopping_basket.append(new_item)\n",
    "    return shopping_basket\n",
    "\n",
    "customer_1_basket = update_basket(new_item=\"milk\", shopping_basket=[\"bread\", \"cheese\"])\n",
    "customer_2_basket = update_basket(new_item=\"bananas\")\n",
    "customer_3_basket = update_basket(new_item=\"eggs\")\n",
    "\n",
    "print(f\"Customer 1's basket contains: {customer_1_basket}\")\n",
    "print(f\"Customer 2's basket contains: {customer_2_basket}\")\n",
    "print(f\"Customer 3's basket contains: {customer_3_basket}\")"
   ]
  },
  {
   "cell_type": "code",
   "execution_count": null,
   "metadata": {},
   "outputs": [],
   "source": [
    "# your improved version\n",
    "def update_basket(new_item, shopping_basket=None):\n",
    "    if shopping_basket is None:\n",
    "        shopping_basket = []\n",
    "    shopping_basket.append(new_item)\n",
    "    return shopping_basket\n",
    "\n",
    "customer_1_basket = update_basket(new_item=\"milk\", shopping_basket=[\"bread\", \"cheese\"])\n",
    "customer_2_basket = update_basket(new_item=\"bananas\")\n",
    "customer_3_basket = update_basket(new_item=\"eggs\")\n",
    "\n",
    "print(f\"Customer 1's basket contains: {customer_1_basket}\")\n",
    "print(f\"Customer 2's basket contains: {customer_2_basket}\")\n",
    "print(f\"Customer 3's basket contains: {customer_3_basket}\")"
   ]
  },
  {
   "cell_type": "markdown",
   "metadata": {},
   "source": [
    "**Explanation**: The original code used mutatble default arguements (the list). When creating customer_2_basket we modified the list from [] to ['bananas']. This same list is then modified by customer_3 to become ['bananas', 'eggs']. In other words, Customers 2 and 3 share the exact same list.\n",
    "\n",
    "To get around this we can set the default to be \"None\" and give each customer there own list within the function. "
   ]
  },
  {
   "cell_type": "markdown",
   "metadata": {},
   "source": [
    "**Bonus Question 10.** \n",
    "Run this python script called: TODO, and find it's issue, fix it. \n",
    "Hint: For this one you may have to restart your terminal "
   ]
  }
 ],
 "metadata": {
  "kernelspec": {
   "display_name": "py_for_science",
   "language": "python",
   "name": "python3"
  },
  "language_info": {
   "codemirror_mode": {
    "name": "ipython",
    "version": 3
   },
   "file_extension": ".py",
   "mimetype": "text/x-python",
   "name": "python",
   "nbconvert_exporter": "python",
   "pygments_lexer": "ipython3",
   "version": "3.11.5"
  }
 },
 "nbformat": 4,
 "nbformat_minor": 2
}
