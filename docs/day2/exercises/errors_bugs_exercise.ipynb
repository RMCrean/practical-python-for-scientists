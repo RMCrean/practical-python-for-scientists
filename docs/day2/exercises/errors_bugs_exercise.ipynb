{
 "cells": [
  {
   "cell_type": "markdown",
   "metadata": {},
   "source": [
    "### Exercise: Fix these code blocks\n",
    "\n",
    "All of the below code doesn't work. Find the issue and fix it. \n",
    "\n",
    "##### Instructions\n",
    "- Edit each cell block labelled \"your fixed version\" with your bug fix.\n",
    "\n",
    "##### Tips: \n",
    "- For the more complex problems, it can help to create some examples to help you test the code. This will allow you to see where the code works and where it fails.\n",
    "- If you can't solve the problem that's okay, move onto the next one. We'll go through them all afterwards and the awnsers will be made available to you. "
   ]
  },
  {
   "cell_type": "markdown",
   "metadata": {},
   "source": [
    "**Question 1.**"
   ]
  },
  {
   "cell_type": "code",
   "execution_count": 5,
   "metadata": {},
   "outputs": [
    {
     "ename": "TypeError",
     "evalue": "can only concatenate str (not \"int\") to str",
     "output_type": "error",
     "traceback": [
      "\u001b[0;31m---------------------------------------------------------------------------\u001b[0m",
      "\u001b[0;31mTypeError\u001b[0m                                 Traceback (most recent call last)",
      "\u001b[1;32m/home/roryc760/projects/practical-python-for-scientists/docs/day2/exercises/errors_bugs_exercise.ipynb Cell 3\u001b[0m line \u001b[0;36m4\n\u001b[1;32m      <a href='vscode-notebook-cell://wsl%2Bubuntu/home/roryc760/projects/practical-python-for-scientists/docs/day2/exercises/errors_bugs_exercise.ipynb#X14sdnNjb2RlLXJlbW90ZQ%3D%3D?line=1'>2</a>\u001b[0m name \u001b[39m=\u001b[39m \u001b[39m\"\u001b[39m\u001b[39mJohn\u001b[39m\u001b[39m\"\u001b[39m\n\u001b[1;32m      <a href='vscode-notebook-cell://wsl%2Bubuntu/home/roryc760/projects/practical-python-for-scientists/docs/day2/exercises/errors_bugs_exercise.ipynb#X14sdnNjb2RlLXJlbW90ZQ%3D%3D?line=2'>3</a>\u001b[0m age \u001b[39m=\u001b[39m \u001b[39m25\u001b[39m\n\u001b[0;32m----> <a href='vscode-notebook-cell://wsl%2Bubuntu/home/roryc760/projects/practical-python-for-scientists/docs/day2/exercises/errors_bugs_exercise.ipynb#X14sdnNjb2RlLXJlbW90ZQ%3D%3D?line=3'>4</a>\u001b[0m info \u001b[39m=\u001b[39m \u001b[39m\"\u001b[39;49m\u001b[39mHello, my name is \u001b[39;49m\u001b[39m\"\u001b[39;49m \u001b[39m+\u001b[39;49m name \u001b[39m+\u001b[39;49m \u001b[39m\"\u001b[39;49m\u001b[39m I am \u001b[39;49m\u001b[39m\"\u001b[39;49m \u001b[39m+\u001b[39;49m age \u001b[39m+\u001b[39m \u001b[39m\"\u001b[39m\u001b[39m years old.\u001b[39m\u001b[39m\"\u001b[39m\n\u001b[1;32m      <a href='vscode-notebook-cell://wsl%2Bubuntu/home/roryc760/projects/practical-python-for-scientists/docs/day2/exercises/errors_bugs_exercise.ipynb#X14sdnNjb2RlLXJlbW90ZQ%3D%3D?line=4'>5</a>\u001b[0m \u001b[39mprint\u001b[39m(info)\n",
      "\u001b[0;31mTypeError\u001b[0m: can only concatenate str (not \"int\") to str"
     ]
    }
   ],
   "source": [
    "# original code - don't edit this cell\n",
    "name = \"John\"\n",
    "age = 25\n",
    "info = \"Hello, my name is \" + name + \" I am \" + age + \" years old.\"\n",
    "print(info)"
   ]
  },
  {
   "cell_type": "code",
   "execution_count": 6,
   "metadata": {},
   "outputs": [
    {
     "name": "stdout",
     "output_type": "stream",
     "text": [
      "Hello, my name is John I am 25 years old.\n"
     ]
    }
   ],
   "source": [
    "# your working version\n",
    "name = \"John\"\n",
    "age = 25\n",
    "info = \"Hello, my name is \" + name + \" I am \" + str(age) + \" years old.\"\n",
    "print(info)"
   ]
  },
  {
   "cell_type": "markdown",
   "metadata": {},
   "source": [
    "**Explanation:**  The initial example will result in a TypeError because you cannot directly concatenate different data types. To fix this error, you can convert the integer to a string before concatenating. "
   ]
  },
  {
   "cell_type": "markdown",
   "metadata": {},
   "source": [
    "**Question 2.**"
   ]
  },
  {
   "cell_type": "code",
   "execution_count": 7,
   "metadata": {},
   "outputs": [
    {
     "name": "stdout",
     "output_type": "stream",
     "text": [
      "Average: 70\n"
     ]
    }
   ],
   "source": [
    "# original code - don't edit this cell\n",
    "def calculate_average(numbers):\n",
    "    total = sum(numbers)\n",
    "    average = total / len(numbers)\n",
    "    return total\n",
    "\n",
    "numbers = [10, 15, 20, 25]\n",
    "print(\"Average:\", calculate_average(numbers))"
   ]
  },
  {
   "cell_type": "code",
   "execution_count": null,
   "metadata": {},
   "outputs": [],
   "source": [
    "# your working version\n",
    "def calculate_average(numbers):\n",
    "    total = sum(numbers)\n",
    "    average = total / len(numbers)\n",
    "    return average\n",
    "\n",
    "numbers = [10, 15, 20, 25]\n",
    "print(\"Average:\", calculate_average(numbers))"
   ]
  },
  {
   "cell_type": "markdown",
   "metadata": {},
   "source": [
    "**Explanation:** In this example there were a logical error, whereby the total was being returned. You're IDE can help you spot these, by telling you that you have an unused variable (average) in your code."
   ]
  },
  {
   "cell_type": "markdown",
   "metadata": {},
   "source": [
    "**Question 3.**"
   ]
  },
  {
   "cell_type": "code",
   "execution_count": 8,
   "metadata": {},
   "outputs": [
    {
     "ename": "TypeError",
     "evalue": "cannot unpack non-iterable int object",
     "output_type": "error",
     "traceback": [
      "\u001b[0;31m---------------------------------------------------------------------------\u001b[0m",
      "\u001b[0;31mTypeError\u001b[0m                                 Traceback (most recent call last)",
      "\u001b[1;32m/home/roryc760/projects/practical-python-for-scientists/docs/day2/exercises/errors_bugs_exercise.ipynb Cell 11\u001b[0m line \u001b[0;36m2\n\u001b[1;32m      <a href='vscode-notebook-cell://wsl%2Bubuntu/home/roryc760/projects/practical-python-for-scientists/docs/day2/exercises/errors_bugs_exercise.ipynb#W3sdnNjb2RlLXJlbW90ZQ%3D%3D?line=0'>1</a>\u001b[0m numbers \u001b[39m=\u001b[39m [\u001b[39m1\u001b[39m, \u001b[39m2\u001b[39m, \u001b[39m3\u001b[39m, \u001b[39m4\u001b[39m, \u001b[39m5\u001b[39m]\n\u001b[0;32m----> <a href='vscode-notebook-cell://wsl%2Bubuntu/home/roryc760/projects/practical-python-for-scientists/docs/day2/exercises/errors_bugs_exercise.ipynb#W3sdnNjb2RlLXJlbW90ZQ%3D%3D?line=1'>2</a>\u001b[0m squared \u001b[39m=\u001b[39m [x\u001b[39m*\u001b[39;49m\u001b[39m*\u001b[39;49my \u001b[39mfor\u001b[39;49;00m x, y \u001b[39min\u001b[39;49;00m numbers]\n\u001b[1;32m      <a href='vscode-notebook-cell://wsl%2Bubuntu/home/roryc760/projects/practical-python-for-scientists/docs/day2/exercises/errors_bugs_exercise.ipynb#W3sdnNjb2RlLXJlbW90ZQ%3D%3D?line=2'>3</a>\u001b[0m \u001b[39mprint\u001b[39m(squared)\n",
      "\u001b[1;32m/home/roryc760/projects/practical-python-for-scientists/docs/day2/exercises/errors_bugs_exercise.ipynb Cell 11\u001b[0m line \u001b[0;36m2\n\u001b[1;32m      <a href='vscode-notebook-cell://wsl%2Bubuntu/home/roryc760/projects/practical-python-for-scientists/docs/day2/exercises/errors_bugs_exercise.ipynb#W3sdnNjb2RlLXJlbW90ZQ%3D%3D?line=0'>1</a>\u001b[0m numbers \u001b[39m=\u001b[39m [\u001b[39m1\u001b[39m, \u001b[39m2\u001b[39m, \u001b[39m3\u001b[39m, \u001b[39m4\u001b[39m, \u001b[39m5\u001b[39m]\n\u001b[0;32m----> <a href='vscode-notebook-cell://wsl%2Bubuntu/home/roryc760/projects/practical-python-for-scientists/docs/day2/exercises/errors_bugs_exercise.ipynb#W3sdnNjb2RlLXJlbW90ZQ%3D%3D?line=1'>2</a>\u001b[0m squared \u001b[39m=\u001b[39m [x\u001b[39m*\u001b[39m\u001b[39m*\u001b[39my \u001b[39mfor\u001b[39;00m x, y \u001b[39min\u001b[39;00m numbers]\n\u001b[1;32m      <a href='vscode-notebook-cell://wsl%2Bubuntu/home/roryc760/projects/practical-python-for-scientists/docs/day2/exercises/errors_bugs_exercise.ipynb#W3sdnNjb2RlLXJlbW90ZQ%3D%3D?line=2'>3</a>\u001b[0m \u001b[39mprint\u001b[39m(squared)\n",
      "\u001b[0;31mTypeError\u001b[0m: cannot unpack non-iterable int object"
     ]
    }
   ],
   "source": [
    "# original code - don't edit this cell\n",
    "numbers = [1, 2, 3, 4, 5]\n",
    "squared = [x**y for x, y in numbers]\n",
    "print(squared)"
   ]
  },
  {
   "cell_type": "code",
   "execution_count": 12,
   "metadata": {},
   "outputs": [
    {
     "name": "stdout",
     "output_type": "stream",
     "text": [
      "[1, 4, 9, 16, 25]\n"
     ]
    }
   ],
   "source": [
    "# your working version\n",
    "numbers = [1, 2, 3, 4, 5]\n",
    "squared = [x*x for x in numbers]\n",
    "print(squared)"
   ]
  },
  {
   "cell_type": "markdown",
   "metadata": {},
   "source": [
    "**Explanation:** There are two errors here. First we are trying to unpack the list numbers as two items at a time (x and y), when for each iteration we only obtain one item (x). Second, using (\\*\\*) instead of (\\*). \n",
    "The asterisk (\\*) is used for multiplication, while the double asterisk (\\*\\*) is used for exponentiation. For example, 5 * 2 is 10, while 5 ** 2 is 25."
   ]
  },
  {
   "cell_type": "markdown",
   "metadata": {},
   "source": [
    "**Question 4.** The below code doesn't always find the minimum element in the list. Why?"
   ]
  },
  {
   "cell_type": "code",
   "execution_count": 9,
   "metadata": {},
   "outputs": [
    {
     "data": {
      "text/plain": [
       "0"
      ]
     },
     "execution_count": 9,
     "metadata": {},
     "output_type": "execute_result"
    }
   ],
   "source": [
    "# original code - don't edit this cell\n",
    "def minimum(some_list):\n",
    "    a = 0\n",
    "    for x in range(1, len(some_list)):\n",
    "        if some_list[x] < a:\n",
    "            a = some_list[x]\n",
    "    return a"
   ]
  },
  {
   "cell_type": "code",
   "execution_count": 17,
   "metadata": {},
   "outputs": [
    {
     "data": {
      "text/plain": [
       "0"
      ]
     },
     "execution_count": 17,
     "metadata": {},
     "output_type": "execute_result"
    }
   ],
   "source": [
    "# your working version\n",
    "minimum([3, 4, 5, 9])"
   ]
  },
  {
   "cell_type": "markdown",
   "metadata": {},
   "source": [
    "**Explanation:**"
   ]
  },
  {
   "cell_type": "markdown",
   "metadata": {},
   "source": []
  },
  {
   "cell_type": "code",
   "execution_count": null,
   "metadata": {},
   "outputs": [],
   "source": [
    "# original code - don't edit this cell"
   ]
  },
  {
   "cell_type": "code",
   "execution_count": null,
   "metadata": {},
   "outputs": [],
   "source": [
    "# your working version"
   ]
  },
  {
   "cell_type": "markdown",
   "metadata": {},
   "source": [
    "**Explanation:**"
   ]
  },
  {
   "cell_type": "markdown",
   "metadata": {},
   "source": []
  },
  {
   "cell_type": "code",
   "execution_count": null,
   "metadata": {},
   "outputs": [],
   "source": [
    "# original code - don't edit this cell"
   ]
  },
  {
   "cell_type": "code",
   "execution_count": null,
   "metadata": {},
   "outputs": [],
   "source": [
    "# your working version"
   ]
  },
  {
   "cell_type": "markdown",
   "metadata": {},
   "source": [
    "**Explanation:**"
   ]
  },
  {
   "cell_type": "code",
   "execution_count": null,
   "metadata": {},
   "outputs": [],
   "source": [
    "# original code - don't edit this cell"
   ]
  },
  {
   "cell_type": "code",
   "execution_count": null,
   "metadata": {},
   "outputs": [],
   "source": [
    "# your working version"
   ]
  },
  {
   "cell_type": "code",
   "execution_count": null,
   "metadata": {},
   "outputs": [],
   "source": []
  },
  {
   "cell_type": "code",
   "execution_count": null,
   "metadata": {},
   "outputs": [],
   "source": [
    "# original code - don't edit this cell"
   ]
  },
  {
   "cell_type": "code",
   "execution_count": null,
   "metadata": {},
   "outputs": [],
   "source": [
    "# your working version"
   ]
  },
  {
   "cell_type": "markdown",
   "metadata": {},
   "source": [
    "**Explanation:**"
   ]
  }
 ],
 "metadata": {
  "kernelspec": {
   "display_name": "py_for_science",
   "language": "python",
   "name": "python3"
  },
  "language_info": {
   "codemirror_mode": {
    "name": "ipython",
    "version": 3
   },
   "file_extension": ".py",
   "mimetype": "text/x-python",
   "name": "python",
   "nbconvert_exporter": "python",
   "pygments_lexer": "ipython3",
   "version": "3.11.5"
  }
 },
 "nbformat": 4,
 "nbformat_minor": 2
}
