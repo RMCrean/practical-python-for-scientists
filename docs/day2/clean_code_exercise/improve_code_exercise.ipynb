{
 "cells": [
  {
   "cell_type": "markdown",
   "metadata": {},
   "source": [
    "[![Open in Colab](https://colab.research.google.com/assets/colab-badge.svg)](https://colab.research.google.com/github/RMCrean/practical-python-for-scientists/blob/master/docs/day2/clean_code_exercise/improve_code_exercise.ipynb)"
   ]
  },
  {
   "cell_type": "markdown",
   "metadata": {},
   "source": [
    "All of the below code works, but there is a more \"pythonic\" way to do it. Can you find it? \n",
    "\n",
    "#### Instructions\n",
    "- Edit each cell block labelled \"your improved version\" with your suggested improvements.\n",
    "- Make sure your alternate version gives the same output as the original code block. \n",
    "\n",
    "#### Tips: \n",
    "- Ask what each code block is doing (e.g. printing something out) and ask how you could do this differently - perhaps in a more readable way or more efficently). \n",
    "- If you can't solve the problem that's okay, move onto the next one. We'll go through them all afterwards and the awnsers will be made available to you. "
   ]
  },
  {
   "cell_type": "markdown",
   "metadata": {},
   "source": [
    "### Question 1"
   ]
  },
  {
   "cell_type": "code",
   "execution_count": 1,
   "metadata": {},
   "outputs": [
    {
     "name": "stdout",
     "output_type": "stream",
     "text": [
      "My name is Tim.\n",
      "I'm a writting a book called: Tim's Troubles.\n",
      "It will be about 300 pages long.\n"
     ]
    }
   ],
   "source": [
    "# original code - don't edit this cell\n",
    "def manual_str_formatting(name, thesis_title, num_pages):\n",
    "        print(\"My name is \" + name + \".\\n\" + \n",
    "              \"I'm a writting a book called: \" + thesis_title + \".\\n\" + \n",
    "              \"It will be about \" + str(num_pages) + \" pages long.\")\n",
    "\n",
    "manual_str_formatting(name=\"Tim\", thesis_title=\"Tim's Troubles\", num_pages=300)"
   ]
  },
  {
   "cell_type": "code",
   "execution_count": 2,
   "metadata": {},
   "outputs": [],
   "source": [
    "# your improved version\n"
   ]
  },
  {
   "cell_type": "markdown",
   "metadata": {},
   "source": [
    "### Question 2"
   ]
  },
  {
   "cell_type": "code",
   "execution_count": 3,
   "metadata": {},
   "outputs": [],
   "source": [
    "# code to setup question, no editing needed \n",
    "jam_scores = {\n",
    "    \"strawberry\" : 5,\n",
    "    \"raspberry\": 10,\n",
    "    \"blueberry\": 6,\n",
    "    \"cherry\": 4\n",
    "}"
   ]
  },
  {
   "cell_type": "code",
   "execution_count": 4,
   "metadata": {},
   "outputs": [
    {
     "name": "stdout",
     "output_type": "stream",
     "text": [
      "strawberry jam has a rating of 5/10 \n",
      "raspberry jam has a rating of 10/10 \n",
      "blueberry jam has a rating of 6/10 \n",
      "cherry jam has a rating of 4/10 \n"
     ]
    }
   ],
   "source": [
    "# original code - don't edit this cell\n",
    "for jam in jam_scores:\n",
    "    score = jam_scores[jam]\n",
    "    print(f\"{jam} jam has a rating of {score}/10 \")"
   ]
  },
  {
   "cell_type": "code",
   "execution_count": 5,
   "metadata": {},
   "outputs": [],
   "source": [
    "# your improved version\n"
   ]
  },
  {
   "cell_type": "markdown",
   "metadata": {},
   "source": [
    "### Question 3"
   ]
  },
  {
   "cell_type": "code",
   "execution_count": 6,
   "metadata": {},
   "outputs": [],
   "source": [
    "# code to setup question, no editing needed \n",
    "dogs = ['Labrador Retriever', 'German Shepherd', 'Golden Retriever', 'Bulldog', 'Poodle']"
   ]
  },
  {
   "cell_type": "code",
   "execution_count": 7,
   "metadata": {},
   "outputs": [
    {
     "name": "stdout",
     "output_type": "stream",
     "text": [
      "Labrador Retriever\n",
      "German Shepherd\n",
      "Golden Retriever\n",
      "Bulldog\n",
      "Poodle\n"
     ]
    }
   ],
   "source": [
    "# original code - don't edit this cell\n",
    "for i in range(len(dogs)):\n",
    "    dog = dogs[i]\n",
    "    print(dog)"
   ]
  },
  {
   "cell_type": "code",
   "execution_count": 8,
   "metadata": {},
   "outputs": [],
   "source": [
    "# your improved version"
   ]
  },
  {
   "cell_type": "markdown",
   "metadata": {},
   "source": [
    "### Question 4"
   ]
  },
  {
   "cell_type": "code",
   "execution_count": 9,
   "metadata": {},
   "outputs": [],
   "source": [
    "# code to setup question, no editing needed \n",
    "dogs_show_rankings = ['Labrador Retriever', 'German Shepherd', 'Golden Retriever']"
   ]
  },
  {
   "cell_type": "code",
   "execution_count": 10,
   "metadata": {},
   "outputs": [
    {
     "name": "stdout",
     "output_type": "stream",
     "text": [
      "The Labrador Retriever had ranking 1 in the dog show\n",
      "The German Shepherd had ranking 2 in the dog show\n",
      "The Golden Retriever had ranking 3 in the dog show\n"
     ]
    }
   ],
   "source": [
    "# original code - don't edit this cell\n",
    "ranking = 1\n",
    "for dog in dogs_show_rankings:\n",
    "    print(f\"The {dog} had ranking {ranking} in the dog show\")\n",
    "    ranking += 1"
   ]
  },
  {
   "cell_type": "markdown",
   "metadata": {},
   "source": [
    "**Explanation**: Enumerate will return the index along side the item inside the list. You can also change the starting value of the index to be something other than 0. Sometimes I have found it useful to start from 1 for example."
   ]
  },
  {
   "cell_type": "markdown",
   "metadata": {},
   "source": [
    "### Question 5"
   ]
  },
  {
   "cell_type": "code",
   "execution_count": 11,
   "metadata": {},
   "outputs": [],
   "source": [
    "# code to setup question, no editing needed \n",
    "dogs = ['Labrador Retriever', 'German Shepherd', 'Golden Retriever', 'Bulldog', 'Poodle']\n",
    "favourite_toys = dog_toys = ['Chew Bone', 'Squeaky Toy', 'Tug Rope', 'Fetch Ball', 'Plush Toy']"
   ]
  },
  {
   "cell_type": "code",
   "execution_count": 12,
   "metadata": {},
   "outputs": [
    {
     "name": "stdout",
     "output_type": "stream",
     "text": [
      "Chew Bones are a Labrador Retriever's favourite toy\n",
      "Squeaky Toys are a German Shepherd's favourite toy\n",
      "Tug Ropes are a Golden Retriever's favourite toy\n",
      "Fetch Balls are a Bulldog's favourite toy\n",
      "Plush Toys are a Poodle's favourite toy\n"
     ]
    }
   ],
   "source": [
    "# original code - don't edit this cell\n",
    "for shared_index in range(len(dogs)):\n",
    "    dog = dogs[shared_index]\n",
    "    fav_toy = favourite_toys[shared_index]\n",
    "    print(f\"{fav_toy}s are a {dog}'s favourite toy\")"
   ]
  },
  {
   "cell_type": "code",
   "execution_count": 13,
   "metadata": {},
   "outputs": [],
   "source": [
    "# your improved version"
   ]
  },
  {
   "cell_type": "markdown",
   "metadata": {},
   "source": [
    "### Question 6"
   ]
  },
  {
   "cell_type": "code",
   "execution_count": 14,
   "metadata": {},
   "outputs": [],
   "source": [
    "# original code - don't edit this cell\n",
    "def write_hello_in_empty_file(file_name):\n",
    "    f = open(file_name, \"w\")\n",
    "    f.write(\"hello!\\n\")\n",
    "    f.close()\n",
    "write_hello_in_empty_file(file_name=\"hello_world.txt\")"
   ]
  },
  {
   "cell_type": "code",
   "execution_count": 15,
   "metadata": {},
   "outputs": [],
   "source": [
    "# your improved version"
   ]
  },
  {
   "cell_type": "markdown",
   "metadata": {},
   "source": [
    "### Question 7"
   ]
  },
  {
   "cell_type": "code",
   "execution_count": 16,
   "metadata": {},
   "outputs": [
    {
     "name": "stdout",
     "output_type": "stream",
     "text": [
      "The coordinates are: 13.01, 14.20, -12.30\n"
     ]
    }
   ],
   "source": [
    "# original code - don't edit this cell\n",
    "coordinates = [13.01021212, 14.201, -12.30422121]\n",
    "x = coordinates[0]\n",
    "y = coordinates[1]\n",
    "z = coordinates[2]\n",
    "print(f\"The coordinates are: {x:.2f}, {y:.2f}, {z:.2f}\")"
   ]
  },
  {
   "cell_type": "code",
   "execution_count": 17,
   "metadata": {},
   "outputs": [],
   "source": [
    "# your improved version\n"
   ]
  },
  {
   "cell_type": "markdown",
   "metadata": {},
   "source": [
    "### Question 8 \n",
    "\n",
    "**Hint:** This one has 2 things to think about... "
   ]
  },
  {
   "cell_type": "code",
   "execution_count": 18,
   "metadata": {},
   "outputs": [],
   "source": [
    "# code to setup question, no editing needed \n",
    "numb = 2.675"
   ]
  },
  {
   "cell_type": "code",
   "execution_count": 19,
   "metadata": {},
   "outputs": [
    {
     "name": "stdout",
     "output_type": "stream",
     "text": [
      "the number: 2.675 to 2 decimal places is 2.67\n",
      "Was the above statement right?\n",
      "importing numpy to fix the problem\n",
      "the number: 2.675 to 2 decimal places is 2.67\n",
      "Was the above statement right now that we imported numpy?\n"
     ]
    }
   ],
   "source": [
    "# original code - don't edit this cell\n",
    "print(f\"the number: {numb} to 2 decimal places is {round(numb, 2)}\")\n",
    "print(\"Was the above statement right?\")\n",
    "\n",
    "from numpy import * # numpy has a function called \"round\", so we'll import that. \n",
    "print(\"importing numpy to fix the problem\")\n",
    "print(f\"the number: {numb} to 2 decimal places is {round(numb, 2)}\")\n",
    "print(\"Was the above statement right now that we imported numpy?\")"
   ]
  },
  {
   "cell_type": "code",
   "execution_count": 20,
   "metadata": {},
   "outputs": [],
   "source": [
    "# your improved version"
   ]
  },
  {
   "cell_type": "markdown",
   "metadata": {},
   "source": [
    "### Question 9 \n",
    "\n",
    "**Hint:** In this question, the code is not working as intended... "
   ]
  },
  {
   "cell_type": "code",
   "execution_count": 21,
   "metadata": {},
   "outputs": [
    {
     "name": "stdout",
     "output_type": "stream",
     "text": [
      "Customer 1's basket contains: ['bread', 'cheese', 'milk']\n",
      "Customer 2's basket contains: ['bananas', 'eggs']\n",
      "Customer 3's basket contains: ['bananas', 'eggs']\n"
     ]
    }
   ],
   "source": [
    "# original code - don't edit this cell\n",
    "def update_basket(new_item, shopping_basket=[]):\n",
    "    shopping_basket.append(new_item)\n",
    "    return shopping_basket\n",
    "\n",
    "customer_1_basket = update_basket(new_item=\"milk\", shopping_basket=[\"bread\", \"cheese\"])\n",
    "customer_2_basket = update_basket(new_item=\"bananas\")\n",
    "customer_3_basket = update_basket(new_item=\"eggs\")\n",
    "\n",
    "print(f\"Customer 1's basket contains: {customer_1_basket}\")\n",
    "print(f\"Customer 2's basket contains: {customer_2_basket}\")\n",
    "print(f\"Customer 3's basket contains: {customer_3_basket}\")"
   ]
  },
  {
   "cell_type": "code",
   "execution_count": 22,
   "metadata": {},
   "outputs": [],
   "source": [
    "# your improved version"
   ]
  },
  {
   "cell_type": "markdown",
   "metadata": {},
   "source": [
    "### Bonus Question 10\n",
    "\n",
    "Inside the GitHub repository there is a file called: \"improve_code_extra_exercise.py\". \n",
    "\n",
    "Look at the code and predict what will happen when you run the code. Then run it and see if you prediction was correct. Then fix it. \n",
    "\n",
    "**Hint:** For this one you may have to restart your terminal after running the program.  "
   ]
  },
  {
   "cell_type": "markdown",
   "metadata": {},
   "source": []
  }
 ],
 "metadata": {
  "kernelspec": {
   "display_name": "py_for_science",
   "language": "python",
   "name": "python3"
  },
  "language_info": {
   "codemirror_mode": {
    "name": "ipython",
    "version": 3
   },
   "file_extension": ".py",
   "mimetype": "text/x-python",
   "name": "python",
   "nbconvert_exporter": "python",
   "pygments_lexer": "ipython3",
   "version": "3.11.5"
  }
 },
 "nbformat": 4,
 "nbformat_minor": 2
}
